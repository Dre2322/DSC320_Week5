{
 "cells": [
  {
   "cell_type": "code",
   "execution_count": 3,
   "id": "60a8cea6",
   "metadata": {},
   "outputs": [],
   "source": [
    "# Riemann sum function\n",
    "\n",
    "# function to calculate right riemann sum\n",
    "def right_riemann_sum(f, a, b, n):\n",
    "  h = (b - a) / n\n",
    "  sum = 0\n",
    "  for i in range(1, n + 1):\n",
    "    sum += f(a + i * h) * h\n",
    "  return sum"
   ]
  },
  {
   "cell_type": "code",
   "execution_count": 4,
   "id": "7faacce6",
   "metadata": {},
   "outputs": [
    {
     "data": {
      "image/png": "[encoded data removed]",
      "text/plain": [
       "<Figure size 400x400 with 1 Axes>"
      ]
     },
     "metadata": {},
     "output_type": "display_data"
    }
   ],
   "source": [
    "# Using the right Riemann sum to find the area under the curve\n",
    "# a\n",
    "\n",
    "import numpy as np\n",
    "from numpy import sqrt\n",
    "import matplotlib.pyplot as plt\n",
    "\n",
    "# define the function\n",
    "def f(x):\n",
    "  return sqrt(4 - x**2)\n",
    "\n",
    "# define the interval and number of rectangles\n",
    "a = 0; b = 2; N = 5\n",
    "n = 5\n",
    "\n",
    "x = np.linspace(a, b, N+1)\n",
    "y = f(x)\n",
    "\n",
    "X = np.linspace(a, b, n*N+1)\n",
    "Y = f(X)\n",
    "\n",
    "# graph size\n",
    "plt.figure(figsize=(4,4))\n",
    "\n",
    "# plot the function\n",
    "plt.plot(X,Y,'b')\n",
    "x_right = x[1:]\n",
    "y_right = y[1:]\n",
    "plt.bar(x_right, y_right, width=-(b-a)/n, alpha=0.2, align='edge',  edgecolor = 'b')\n",
    "plt.title('Right Riemann Sum, N = {}'.format(N))\n",
    "\n",
    "plt.show()\n"
   ]
  },
  {
   "cell_type": "code",
   "execution_count": 5,
   "id": "8b217032",
   "metadata": {},
   "outputs": [
    {
     "name": "stdout",
     "output_type": "stream",
     "text": [
      " Right Riemann Sum : 2.6370488288835516\n"
     ]
    }
   ],
   "source": [
    "# b\n",
    "\n",
    "from numpy import sqrt\n",
    "\n",
    "# function to calculate right riemann sum\n",
    "def right_riemann_sum(f, a, b, n):\n",
    "  h = (b - a) / n\n",
    "  sum = 0\n",
    "  for i in range(1, n + 1):\n",
    "    sum += f(a + i * h) * h\n",
    "  return sum\n",
    "\n",
    "# print right riemann sum\n",
    "print(f' Right Riemann Sum : {right_riemann_sum(lambda x: sqrt(4 - x**2), 0, 2, 5)}')\n"
   ]
  },
  {
   "cell_type": "code",
   "execution_count": 3,
   "id": "5fc20630",
   "metadata": {},
   "outputs": [
    {
     "name": "stdout",
     "output_type": "stream",
     "text": [
      "Definite Integral: pi\n"
     ]
    }
   ],
   "source": [
    "# c\n",
    "# area under the curve using definite integral\n",
    "\n",
    "import sympy as sy\n",
    "\n",
    "def f(x):\n",
    "  return sy.sqrt(4 - x**2)\n",
    "\n",
    "# calculate the definite integrsl from 0 to 2 of f(x)\n",
    "x = sy.Symbol('x')\n",
    "print(f'Definite Integral: {sy.integrate(f(x), (x, 0, 2))}')"
   ]
  },
  {
   "cell_type": "code",
   "execution_count": 2,
   "id": "6ac2333c",
   "metadata": {},
   "outputs": [
    {
     "name": "stdout",
     "output_type": "stream",
     "text": [
      "Midpoint Riemann Sum: 3.171987823613085\n"
     ]
    }
   ],
   "source": [
    "# c\n",
    "# area under the curve using riemann sum midpoint\n",
    "\n",
    "import numpy as np\n",
    "from numpy import sqrt\n",
    "\n",
    "\n",
    "def mid_riemann_sum(f, a, b, n):\n",
    "  # calculate width of each rectangle\n",
    "  h = (b - a) / n\n",
    "\n",
    "  # calculate midpoints\n",
    "  x_mid = np.linspace(a + h/2, b - h/2, n)\n",
    "\n",
    "  f_mid = f(x_mid)\n",
    "\n",
    "  return h * np.sum(f_mid)\n",
    "\n",
    "print(f'Midpoint Riemann Sum: {mid_riemann_sum( lambda x: sqrt(4 - x**2), 0, 2, 5)}')"
   ]
  },
  {
   "cell_type": "code",
   "execution_count": null,
   "id": "ab7092db",
   "metadata": {},
   "outputs": [],
   "source": [
    "# The area under a curve is called an integral. "
   ]
  }
 ],
 "metadata": {
  "kernelspec": {
   "display_name": "Python 3 (ipykernel)",
   "language": "python",
   "name": "python3"
  },
  "language_info": {
   "codemirror_mode": {
    "name": "ipython",
    "version": 3
   },
   "file_extension": ".py",
   "mimetype": "text/x-python",
   "name": "python",
   "nbconvert_exporter": "python",
   "pygments_lexer": "ipython3",
   "version": "3.11.5"
  }
 },
 "nbformat": 4,
 "nbformat_minor": 5
}
